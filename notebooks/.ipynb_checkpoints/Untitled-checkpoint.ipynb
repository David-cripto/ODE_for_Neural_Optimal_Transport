{
 "cells": [
  {
   "cell_type": "code",
   "execution_count": 1,
   "id": "1e3ce5a4-1a1e-4f7f-ab2f-2bed71800233",
   "metadata": {
    "tags": []
   },
   "outputs": [],
   "source": [
    "import os"
   ]
  },
  {
   "cell_type": "code",
   "execution_count": 2,
   "id": "7c504e67-61b5-4a18-9701-cfa5a44f1a2a",
   "metadata": {
    "tags": []
   },
   "outputs": [],
   "source": [
    "os.chdir(\"/homes/kek/ODE_for_Neural_Optimal_Transport\")"
   ]
  },
  {
   "cell_type": "code",
   "execution_count": 3,
   "id": "6948b9a9-1550-4d46-a99d-c6b1dcc5bb32",
   "metadata": {
    "tags": []
   },
   "outputs": [
    {
     "name": "stderr",
     "output_type": "stream",
     "text": [
      "2023-07-20 09:35:46.038840: I tensorflow/core/platform/cpu_feature_guard.cc:193] This TensorFlow binary is optimized with oneAPI Deep Neural Network Library (oneDNN) to use the following CPU instructions in performance-critical operations:  AVX2 AVX512F FMA\n",
      "To enable them in other operations, rebuild TensorFlow with the appropriate compiler flags.\n",
      "2023-07-20 09:35:47.581392: W tensorflow/compiler/xla/stream_executor/platform/default/dso_loader.cc:64] Could not load dynamic library 'libnvinfer.so.7'; dlerror: libnvinfer.so.7: cannot open shared object file: No such file or directory\n",
      "2023-07-20 09:35:47.581526: W tensorflow/compiler/xla/stream_executor/platform/default/dso_loader.cc:64] Could not load dynamic library 'libnvinfer_plugin.so.7'; dlerror: libnvinfer_plugin.so.7: cannot open shared object file: No such file or directory\n",
      "2023-07-20 09:35:47.581538: W tensorflow/compiler/tf2tensorrt/utils/py_utils.cc:38] TF-TRT Warning: Cannot dlopen some TensorRT libraries. If you would like to use Nvidia GPU with TensorRT, please make sure the missing libraries mentioned above are installed properly.\n"
     ]
    }
   ],
   "source": [
    "from pathlib import Path\n",
    "from torch.utils.data import DataLoader, Dataset\n",
    "from datasets.dataset import CelebDataset\n",
    "import torchvision\n",
    "import numpy as np\n",
    "from models.models import ODEBlock, SimpleFunc"
   ]
  },
  {
   "cell_type": "code",
   "execution_count": null,
   "id": "2b6ee2b0-a7df-47ef-8806-75e1d9294515",
   "metadata": {
    "tags": []
   },
   "outputs": [
    {
     "name": "stderr",
     "output_type": "stream",
     "text": [
      "/homes/kek/miniconda3/lib/python3.10/site-packages/lightning_fabric/plugins/environments/slurm.py:165: PossibleUserWarning: The `srun` command is available on your system but is not used. HINT: If your intention is to run Lightning on SLURM, prepend your python command with `srun` like so: srun python /homes/kek/miniconda3/lib/python3.10/site-packages/i ...\n",
      "  rank_zero_warn(\n",
      "GPU available: True (cuda), used: True\n",
      "TPU available: False, using: 0 TPU cores\n",
      "IPU available: False, using: 0 IPUs\n",
      "HPU available: False, using: 0 HPUs\n",
      "/homes/kek/miniconda3/lib/python3.10/site-packages/lightning_fabric/plugins/environments/slurm.py:165: PossibleUserWarning: The `srun` command is available on your system but is not used. HINT: If your intention is to run Lightning on SLURM, prepend your python command with `srun` like so: srun python /homes/kek/miniconda3/lib/python3.10/site-packages/i ...\n",
      "  rank_zero_warn(\n",
      "/homes/kek/miniconda3/lib/python3.10/site-packages/pytorch_lightning/trainer/configuration_validator.py:68: UserWarning: You passed in a `val_dataloader` but have no `validation_step`. Skipping val loop.\n",
      "  rank_zero_warn(\"You passed in a `val_dataloader` but have no `validation_step`. Skipping val loop.\")\n",
      "You are using a CUDA device ('NVIDIA RTX A4000') that has Tensor Cores. To properly utilize them, you should set `torch.set_float32_matmul_precision('medium' | 'high')` which will trade-off precision for performance. For more details, read https://pytorch.org/docs/stable/generated/torch.set_float32_matmul_precision.html#torch.set_float32_matmul_precision\n",
      "LOCAL_RANK: 0 - CUDA_VISIBLE_DEVICES: [0,1]\n",
      "\n",
      "  | Name       | Type       | Params\n",
      "------------------------------------------\n",
      "0 | transfer   | ODEBlock   | 180   \n",
      "1 | regularize | SimpleFunc | 26.3 M\n",
      "------------------------------------------\n",
      "26.3 M    Trainable params\n",
      "0         Non-trainable params\n",
      "26.3 M    Total params\n",
      "105.215   Total estimated model params size (MB)\n"
     ]
    },
    {
     "data": {
      "application/json": {
       "ascii": false,
       "bar_format": null,
       "colour": null,
       "elapsed": 0.02972698211669922,
       "initial": 0,
       "n": 0,
       "ncols": 101,
       "nrows": 54,
       "postfix": null,
       "prefix": "Training",
       "rate": null,
       "total": null,
       "unit": "it",
       "unit_divisor": 1000,
       "unit_scale": false
      },
      "application/vnd.jupyter.widget-view+json": {
       "model_id": "3e55c780cb204bd38e474f61673a5ac0",
       "version_major": 2,
       "version_minor": 0
      },
      "text/plain": [
       "Training: 0it [00:00, ?it/s]"
      ]
     },
     "metadata": {},
     "output_type": "display_data"
    }
   ],
   "source": [
    "import pytorch_lightning as pl\n",
    "\n",
    "\n",
    "from models.models import NeuralTransfer, ODEBlock, SimpleFunc\n",
    "from datasets.dataset import CelebDataModule\n",
    "\n",
    "model = NeuralTransfer(ODEBlock, SimpleFunc)\n",
    "dm = CelebDataModule(\"/homes/kek/ODE_for_Neural_Optimal_Transport/datasets/Dataset\", batch_size = 2)\n",
    "tb_logger = pl.loggers.TensorBoardLogger(save_dir=\"logs/\")\n",
    "\n",
    "trainer = pl.Trainer(\n",
    "    accelerator=\"gpu\",\n",
    "    devices=1,\n",
    "    max_epochs=2,\n",
    "    logger=tb_logger,\n",
    "    limit_train_batches=10\n",
    ")\n",
    "\n",
    "trainer.fit(model, dm)"
   ]
  },
  {
   "cell_type": "code",
   "execution_count": null,
   "id": "d0a3c090-d8cf-40b1-8206-a226ed54f398",
   "metadata": {},
   "outputs": [],
   "source": []
  },
  {
   "cell_type": "code",
   "execution_count": null,
   "id": "ff4c560a-7339-472a-a294-3d0e4b87f660",
   "metadata": {},
   "outputs": [],
   "source": []
  },
  {
   "cell_type": "code",
   "execution_count": null,
   "id": "7a87bfa9-4f20-489b-84a1-55cb9e2f5a2d",
   "metadata": {},
   "outputs": [],
   "source": []
  },
  {
   "cell_type": "code",
   "execution_count": null,
   "id": "36899714-d137-4ff5-8893-a1047d039775",
   "metadata": {},
   "outputs": [],
   "source": []
  },
  {
   "cell_type": "code",
   "execution_count": 4,
   "id": "9bc8b6cc-19ba-45d0-8cd6-43287b441217",
   "metadata": {
    "tags": []
   },
   "outputs": [],
   "source": [
    "model = SimpleFunc()"
   ]
  },
  {
   "cell_type": "code",
   "execution_count": 4,
   "id": "76992668-640f-4656-91f8-c90245a6a6ba",
   "metadata": {
    "tags": []
   },
   "outputs": [],
   "source": [
    "a = get_dataloader(\"/homes/kek/ODE_for_Neural_Optimal_Transport/datasets/Dataset/Train\")"
   ]
  },
  {
   "cell_type": "code",
   "execution_count": 5,
   "id": "0c0ab8fb-b415-4829-9492-b962fffa7de6",
   "metadata": {
    "tags": []
   },
   "outputs": [],
   "source": [
    "res = next(iter(a))"
   ]
  },
  {
   "cell_type": "code",
   "execution_count": 6,
   "id": "4bdad2ab-fe8c-4fbd-a881-6f81be73840d",
   "metadata": {
    "tags": []
   },
   "outputs": [],
   "source": [
    "model = ODEBlock()"
   ]
  },
  {
   "cell_type": "code",
   "execution_count": null,
   "id": "b2a66db5-70b6-4b8c-b356-04815725a6da",
   "metadata": {
    "tags": []
   },
   "outputs": [],
   "source": [
    "res1 = model(res)"
   ]
  },
  {
   "cell_type": "code",
   "execution_count": 9,
   "id": "95de7db7-fa37-4c48-a58f-ece3b22d1ff4",
   "metadata": {
    "tags": []
   },
   "outputs": [
    {
     "data": {
      "text/plain": [
       "torch.Size([64, 3, 224, 224])"
      ]
     },
     "execution_count": 9,
     "metadata": {},
     "output_type": "execute_result"
    }
   ],
   "source": [
    "res1.size()"
   ]
  },
  {
   "cell_type": "code",
   "execution_count": 15,
   "id": "eea317a8-07fc-4d48-b75f-5f469176cd24",
   "metadata": {
    "tags": []
   },
   "outputs": [],
   "source": [
    "d = CelebDataset(\"/homes/kek/ODE_for_Neural_Optimal_Transport/datasets/Dataset/Train\", transform=torchvision.transforms.Compose([torchvision.transforms.Resize((224, 224)), torchvision.transforms.ToTensor()]))"
   ]
  },
  {
   "cell_type": "code",
   "execution_count": 17,
   "id": "a1ce9f4b-9117-4e3a-b5a0-da6365061314",
   "metadata": {
    "tags": []
   },
   "outputs": [],
   "source": [
    "a = DataLoader(d, 2, shuffle = True)"
   ]
  },
  {
   "cell_type": "code",
   "execution_count": 19,
   "id": "7c2834fa-fac7-4940-b993-311bbee1652e",
   "metadata": {
    "tags": []
   },
   "outputs": [
    {
     "data": {
      "text/plain": [
       "torch.Size([2, 3, 224, 224])"
      ]
     },
     "execution_count": 19,
     "metadata": {},
     "output_type": "execute_result"
    }
   ],
   "source": [
    "next(iter(a)).size()"
   ]
  },
  {
   "cell_type": "code",
   "execution_count": 17,
   "id": "6c5f9d21-9908-4c6b-ad4f-7e9781661758",
   "metadata": {
    "tags": []
   },
   "outputs": [],
   "source": [
    "from torchvision.models import resnet50, ResNet50_Weights\n",
    "from torch import nn"
   ]
  },
  {
   "cell_type": "code",
   "execution_count": 18,
   "id": "f95032f5-0f17-4d6c-b034-7f34abe1e60b",
   "metadata": {
    "tags": []
   },
   "outputs": [],
   "source": [
    "p = nn.Sequential(*[i for i in list(resnet50().children())[:-1]])"
   ]
  },
  {
   "cell_type": "code",
   "execution_count": 20,
   "id": "324d1e51-d8ce-45b4-8cbb-f113b045e314",
   "metadata": {
    "tags": []
   },
   "outputs": [],
   "source": [
    "i = p(res1)"
   ]
  },
  {
   "cell_type": "code",
   "execution_count": 23,
   "id": "bac9a6d6-46ba-4f84-be61-7caae8bc4f08",
   "metadata": {
    "tags": []
   },
   "outputs": [
    {
     "data": {
      "text/plain": [
       "torch.Size([64, 2048])"
      ]
     },
     "execution_count": 23,
     "metadata": {},
     "output_type": "execute_result"
    }
   ],
   "source": [
    "i.squeeze().size()"
   ]
  },
  {
   "cell_type": "code",
   "execution_count": 24,
   "id": "6d8b5343-1e63-4be2-8591-5fcb9fe283bb",
   "metadata": {
    "tags": []
   },
   "outputs": [],
   "source": [
    "o = nn.ModuleList([])"
   ]
  },
  {
   "cell_type": "code",
   "execution_count": null,
   "id": "0a5de0df-9175-490c-b504-0757f6da2306",
   "metadata": {},
   "outputs": [],
   "source": [
    "o.ex"
   ]
  }
 ],
 "metadata": {
  "kernelspec": {
   "display_name": "Python 3 (ipykernel)",
   "language": "python",
   "name": "python3"
  },
  "language_info": {
   "codemirror_mode": {
    "name": "ipython",
    "version": 3
   },
   "file_extension": ".py",
   "mimetype": "text/x-python",
   "name": "python",
   "nbconvert_exporter": "python",
   "pygments_lexer": "ipython3",
   "version": "3.10.0"
  }
 },
 "nbformat": 4,
 "nbformat_minor": 5
}
